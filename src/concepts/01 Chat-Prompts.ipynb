{
 "cells": [
  {
   "cell_type": "markdown",
   "id": "2ed4da4d",
   "metadata": {},
   "source": [
    "## Quickstart Guide\n",
    "https://langchain.readthedocs.io/en/latest/getting_started/getting_started.html"
   ]
  },
  {
   "cell_type": "code",
   "execution_count": 27,
   "id": "a05530b1",
   "metadata": {},
   "outputs": [
    {
     "data": {
      "text/plain": [
       "True"
      ]
     },
     "execution_count": 27,
     "metadata": {},
     "output_type": "execute_result"
    }
   ],
   "source": [
    "from dotenv import load_dotenv\n",
    "\n",
    "# Load the environment variables from .env\n",
    "load_dotenv()"
   ]
  },
  {
   "cell_type": "code",
   "execution_count": 28,
   "id": "bb07d3b3-889e-4f9f-90c8-01bc7c907ec8",
   "metadata": {},
   "outputs": [
    {
     "data": {
      "text/plain": [
       "{'ALLUSERSPROFILE': 'C:\\\\ProgramData',\n",
       " 'APPDATA': 'C:\\\\Users\\\\juanm\\\\AppData\\\\Roaming',\n",
       " 'APPLICATION_INSIGHTS_NO_DIAGNOSTIC_CHANNEL': '1',\n",
       " 'AZURE_SEARCH_KEY': '<hidden>',\n",
       " 'AZURE_SEARCH_SERVICE': 'https://vs-securitysurvey.search.windows.net',\n",
       " 'CHROMA_PATH': 'D:\\\\code\\\\python\\\\chroma\\\\seguridaddb',\n",
       " 'CHROME_CRASHPAD_PIPE_NAME': '\\\\\\\\.\\\\pipe\\\\crashpad_8336_TMPINEWDEAUWYUWW',\n",
       " 'CLOUDSDK_METRICS_ENVIRONMENT': 'cloudcode.vscode',\n",
       " 'CLOUDSDK_METRICS_ENVIRONMENT_VERSION': '2.17.0',\n",
       " 'COMMONPROGRAMFILES': 'C:\\\\Program Files\\\\Common Files',\n",
       " 'COMMONPROGRAMFILES(X86)': 'C:\\\\Program Files (x86)\\\\Common Files',\n",
       " 'COMMONPROGRAMW6432': 'C:\\\\Program Files\\\\Common Files',\n",
       " 'COMPUTERNAME': 'DESKTOP-RA4D1A7',\n",
       " 'COMSPEC': 'C:\\\\WINDOWS\\\\system32\\\\cmd.exe',\n",
       " 'DBA_PDF_PATH': 'data\\\\dba',\n",
       " 'DRIVERDATA': 'C:\\\\Windows\\\\System32\\\\Drivers\\\\DriverData',\n",
       " 'EFC_16244': '1',\n",
       " 'ELECTRON_RUN_AS_NODE': '1',\n",
       " 'EMBEDDING_MODEL_CHUNKS': 'sentence-transformers/all-mpnet-base-v2',\n",
       " 'EMBEDDING_MODEL_QA': 'sentence-transformers/multi-qa-MiniLM-L6-dot-v1',\n",
       " 'EXCEL_FILE_PATH': 'data\\\\encuesta\\\\Modelo BD Cuestionarios_V1.xlsx',\n",
       " 'GOOGLE_API_KEY': '<hidden>',\n",
       " 'GROQ_API_KEY': '<hidden>',\n",
       " 'HADOOP_HOME': 'C:\\\\apps\\\\opts\\\\spark-3.0.3-bin-hadoop2.7',\n",
       " 'HOMEDRIVE': 'C:',\n",
       " 'HOMEPATH': '\\\\Users\\\\juanm',\n",
       " 'HUGGINGFACEHUB_API_TOKEN': '<hidden>',\n",
       " 'JPY_INTERRUPT_EVENT': '2040',\n",
       " 'LANGCHAIN_API_KEY': '<hidden>',\n",
       " 'LOCALAPPDATA': 'C:\\\\Users\\\\juanm\\\\AppData\\\\Local',\n",
       " 'LOGONSERVER': '\\\\\\\\DESKTOP-RA4D1A7',\n",
       " 'NEXT_DEPLOYMENT_ID': '',\n",
       " 'NODE_ENV': 'production',\n",
       " 'NUMBER_OF_PROCESSORS': '8',\n",
       " 'OLLAMA_MODELS': 'D:\\\\OLLAMA_MODELS',\n",
       " 'ONEDRIVE': 'D:\\\\juanm\\\\OneDrive',\n",
       " 'ONEDRIVECONSUMER': 'D:\\\\juanm\\\\OneDrive',\n",
       " 'OPENAI_API_KEY': '<hidden>',\n",
       " 'ORIGINAL_XDG_CURRENT_DESKTOP': 'undefined',\n",
       " 'OS': 'Windows_NT',\n",
       " 'PATH': 'd:\\\\code\\\\python\\\\SETI\\\\GenAI\\\\.venv\\\\Scripts;D:\\\\code\\\\python\\\\SETI\\\\GenAI\\\\.venv\\\\Scripts;C:\\\\Program Files\\\\Common Files\\\\Oracle\\\\Java\\\\javapath;C:\\\\Program Files (x86)\\\\Common Files\\\\Oracle\\\\Java\\\\javapath;C:\\\\WINDOWS\\\\system32;C:\\\\WINDOWS;C:\\\\WINDOWS\\\\System32\\\\Wbem;C:\\\\WINDOWS\\\\System32\\\\WindowsPowerShell\\\\v1.0\\\\;C:\\\\WINDOWS\\\\System32\\\\OpenSSH\\\\;C:\\\\apps\\\\opts\\\\spark-3.0.3-bin-hadoop2.7\\\\bin;C:\\\\apps\\\\opts\\\\spark-3.0.3-bin-hadoop2.7\\\\bin;C:\\\\Program Files\\\\Git\\\\cmd;C:\\\\Program Files\\\\Git\\\\bin;C:\\\\Program Files\\\\dotnet\\\\;C:\\\\Program Files\\\\Docker\\\\Docker\\\\resources\\\\bin;C:\\\\Program Files\\\\Microsoft SQL Server\\\\Client SDK\\\\ODBC\\\\170\\\\Tools\\\\Binn\\\\;C:\\\\Program Files (x86)\\\\Microsoft SQL Server\\\\160\\\\DTS\\\\Binn\\\\;C:\\\\Program Files\\\\PowerShell\\\\7\\\\;C:\\\\Users\\\\juanm\\\\AppData\\\\Local\\\\Programs\\\\Python\\\\Python312\\\\Scripts\\\\;C:\\\\Users\\\\juanm\\\\AppData\\\\Local\\\\Programs\\\\Python\\\\Python312\\\\;C:\\\\Users\\\\juanm\\\\AppData\\\\Local\\\\Programs\\\\Python\\\\Launcher\\\\;C:\\\\Users\\\\juanm\\\\bin;C:\\\\Users\\\\juanm\\\\AppData\\\\Local\\\\Microsoft\\\\WindowsApps;C:\\\\Users\\\\juanm\\\\AppData\\\\Local\\\\Programs\\\\Microsoft VS Code\\\\bin;C:\\\\Users\\\\juanm\\\\AppData\\\\Local\\\\Packages\\\\PythonSoftwareFoundation.Python.3.9_qbz5n2kfra8p0\\\\LocalCache\\\\local-packages\\\\Python39\\\\Scripts;C:\\\\Users\\\\juanm\\\\AppData\\\\Local\\\\Programs\\\\Hyper\\\\resources\\\\bin;C:\\\\Users\\\\juanm\\\\.deno\\\\bin;C:\\\\Program Files\\\\Azure Data Studio\\\\bin;C:\\\\Panda3D-1.10.13-x64\\\\python;C:\\\\Panda3D-1.10.13-x64\\\\python\\\\Scripts;C:\\\\Panda3D-1.10.13-x64\\\\bin;C:\\\\Users\\\\juanm\\\\AppData\\\\Local\\\\Microsoft\\\\WindowsApps;C:\\\\Users\\\\juanm\\\\.dotnet\\\\tools;C:\\\\Users\\\\juanm\\\\AppData\\\\Local\\\\Programs\\\\Ollama;D:\\\\code\\\\poetry\\\\Scripts;C:\\\\Users\\\\juanm\\\\AppData\\\\Local\\\\GitHubDesktop\\\\bin',\n",
       " 'PATHEXT': '.COM;.EXE;.BAT;.CMD;.VBS;.VBE;.JS;.JSE;.WSF;.WSH;.MSC',\n",
       " 'PORT': '54112',\n",
       " 'POWERSHELL_DISTRIBUTION_CHANNEL': 'MSI:Windows 10 Pro',\n",
       " 'PROCESSOR_ARCHITECTURE': 'AMD64',\n",
       " 'PROCESSOR_IDENTIFIER': 'AMD64 Family 23 Model 24 Stepping 1, AuthenticAMD',\n",
       " 'PROCESSOR_LEVEL': '23',\n",
       " 'PROCESSOR_REVISION': '1801',\n",
       " 'PROGRAMDATA': 'C:\\\\ProgramData',\n",
       " 'PROGRAMFILES': 'C:\\\\Program Files',\n",
       " 'PROGRAMFILES(X86)': 'C:\\\\Program Files (x86)',\n",
       " 'PROGRAMW6432': 'C:\\\\Program Files',\n",
       " 'PROMPT': '(.venv) $P$G',\n",
       " 'PSMODULEPATH': 'C:\\\\Users\\\\juanm\\\\Documents\\\\WindowsPowerShell\\\\Modules;',\n",
       " 'PUBLIC': 'C:\\\\Users\\\\Public',\n",
       " 'PYDEVD_IPYTHON_COMPATIBLE_DEBUGGING': '1',\n",
       " 'PYSPARK_DRIVER_PYTHON': 'jupyter',\n",
       " 'PYSPARK_DRIVER_PYTHON_OPTS': 'notebook',\n",
       " 'PYTHONIOENCODING': 'utf-8',\n",
       " 'PYTHONUNBUFFERED': '1',\n",
       " 'PYTHON_FROZEN_MODULES': 'on',\n",
       " 'SERPAPI_API_KEY': '<hidden>',\n",
       " 'SERPER_API_KEY': '<hidden>',\n",
       " 'SESSIONNAME': 'Console',\n",
       " 'SPARK_HOME': 'C:\\\\apps\\\\opts\\\\spark-3.0.3-bin-hadoop2.7',\n",
       " 'SPARK_LOCAL_HOSTNAME': 'localhost',\n",
       " 'SYSTEMDRIVE': 'C:',\n",
       " 'SYSTEMROOT': 'C:\\\\WINDOWS',\n",
       " 'TEMP': 'C:\\\\Users\\\\juanm\\\\AppData\\\\Local\\\\Temp',\n",
       " 'TEMP_DIR': 'D:\\\\data\\\\encuesta_seguridad_ai',\n",
       " 'TMP': 'C:\\\\Users\\\\juanm\\\\AppData\\\\Local\\\\Temp',\n",
       " 'USERDOMAIN': 'DESKTOP-RA4D1A7',\n",
       " 'USERDOMAIN_ROAMINGPROFILE': 'DESKTOP-RA4D1A7',\n",
       " 'USERNAME': 'juanm',\n",
       " 'USERPROFILE': 'C:\\\\Users\\\\juanm',\n",
       " 'VECTORDB_DBA': 'D:\\\\code\\\\python\\\\chroma\\\\dba_asistant',\n",
       " 'VIRTUAL_ENV': 'D:\\\\code\\\\python\\\\SETI\\\\GenAI\\\\.venv',\n",
       " 'VIRTUAL_ENV_PROMPT': '(.venv) ',\n",
       " 'VSCODE_AMD_ENTRYPOINT': 'vs/workbench/api/node/extensionHostProcess',\n",
       " 'VSCODE_CODE_CACHE_PATH': 'C:\\\\Users\\\\juanm\\\\AppData\\\\Roaming\\\\Code\\\\CachedData\\\\38c31bc77e0dd6ae88a4e9cc93428cc27a56ba40',\n",
       " 'VSCODE_CRASH_REPORTER_PROCESS_TYPE': 'extensionHost',\n",
       " 'VSCODE_CWD': 'D:\\\\code\\\\python\\\\SETI\\\\GenAI',\n",
       " 'VSCODE_DOTNET_INSTALL_TOOL_ORIGINAL_HOME': 'undefined',\n",
       " 'VSCODE_HANDLES_UNCAUGHT_ERRORS': 'true',\n",
       " 'VSCODE_IPC_HOOK': '\\\\\\\\.\\\\pipe\\\\aa7c7b73-1.93.1-main-sock',\n",
       " 'VSCODE_NLS_CONFIG': '{\"userLocale\":\"en-us\",\"osLocale\":\"es-co\",\"resolvedLanguage\":\"en\",\"defaultMessagesFile\":\"C:\\\\\\\\Users\\\\\\\\juanm\\\\\\\\AppData\\\\\\\\Local\\\\\\\\Programs\\\\\\\\Microsoft VS Code\\\\\\\\resources\\\\\\\\app\\\\\\\\out\\\\\\\\nls.messages.json\",\"locale\":\"en-us\",\"availableLanguages\":{}}',\n",
       " 'VSCODE_PID': '8336',\n",
       " 'WINDIR': 'C:\\\\WINDOWS',\n",
       " '_OLD_VIRTUAL_PATH': 'C:\\\\Program Files\\\\Common Files\\\\Oracle\\\\Java\\\\javapath;C:\\\\Program Files (x86)\\\\Common Files\\\\Oracle\\\\Java\\\\javapath;C:\\\\WINDOWS\\\\system32;C:\\\\WINDOWS;C:\\\\WINDOWS\\\\System32\\\\Wbem;C:\\\\WINDOWS\\\\System32\\\\WindowsPowerShell\\\\v1.0\\\\;C:\\\\WINDOWS\\\\System32\\\\OpenSSH\\\\;C:\\\\apps\\\\opts\\\\spark-3.0.3-bin-hadoop2.7\\\\bin;C:\\\\apps\\\\opts\\\\spark-3.0.3-bin-hadoop2.7\\\\bin;C:\\\\Program Files\\\\Git\\\\cmd;C:\\\\Program Files\\\\Git\\\\bin;C:\\\\Program Files\\\\dotnet\\\\;C:\\\\Program Files\\\\Docker\\\\Docker\\\\resources\\\\bin;C:\\\\Program Files\\\\Microsoft SQL Server\\\\Client SDK\\\\ODBC\\\\170\\\\Tools\\\\Binn\\\\;C:\\\\Program Files (x86)\\\\Microsoft SQL Server\\\\160\\\\DTS\\\\Binn\\\\;C:\\\\Program Files\\\\PowerShell\\\\7\\\\;C:\\\\Users\\\\juanm\\\\AppData\\\\Local\\\\Programs\\\\Python\\\\Python312\\\\Scripts\\\\;C:\\\\Users\\\\juanm\\\\AppData\\\\Local\\\\Programs\\\\Python\\\\Python312\\\\;C:\\\\Users\\\\juanm\\\\AppData\\\\Local\\\\Programs\\\\Python\\\\Launcher\\\\;C:\\\\Users\\\\juanm\\\\bin;C:\\\\Users\\\\juanm\\\\AppData\\\\Local\\\\Microsoft\\\\WindowsApps;C:\\\\Users\\\\juanm\\\\AppData\\\\Local\\\\Programs\\\\Microsoft VS Code\\\\bin;C:\\\\Users\\\\juanm\\\\AppData\\\\Local\\\\Packages\\\\PythonSoftwareFoundation.Python.3.9_qbz5n2kfra8p0\\\\LocalCache\\\\local-packages\\\\Python39\\\\Scripts;C:\\\\Users\\\\juanm\\\\AppData\\\\Local\\\\Programs\\\\Hyper\\\\resources\\\\bin;C:\\\\Users\\\\juanm\\\\.deno\\\\bin;C:\\\\Program Files\\\\Azure Data Studio\\\\bin;C:\\\\Panda3D-1.10.13-x64\\\\python;C:\\\\Panda3D-1.10.13-x64\\\\python\\\\Scripts;C:\\\\Panda3D-1.10.13-x64\\\\bin;C:\\\\Users\\\\juanm\\\\AppData\\\\Local\\\\Microsoft\\\\WindowsApps;C:\\\\Users\\\\juanm\\\\.dotnet\\\\tools;C:\\\\Users\\\\juanm\\\\AppData\\\\Local\\\\Programs\\\\Ollama;D:\\\\code\\\\poetry\\\\Scripts;C:\\\\Users\\\\juanm\\\\AppData\\\\Local\\\\GitHubDesktop\\\\bin',\n",
       " '_OLD_VIRTUAL_PROMPT': '$P$G',\n",
       " '__COMPAT_LAYER': 'DetectorsAppHealth',\n",
       " '__NEXT_OPTIMIZE_FONTS': 'true',\n",
       " '__NEXT_PRIVATE_ORIGIN': 'http://localhost:54112',\n",
       " '__NEXT_PRIVATE_RUNTIME_TYPE': '',\n",
       " '__NEXT_PRIVATE_STANDALONE_CONFIG': '{\"env\":{},\"webpack\":null,\"eslint\":{\"ignoreDuringBuilds\":false},\"typescript\":{\"ignoreBuildErrors\":false,\"tsconfigPath\":\"tsconfig.json\"},\"distDir\":\"./.next\",\"cleanDistDir\":true,\"assetPrefix\":\"\",\"configOrigin\":\"next.config.js\",\"useFileSystemPublicRoutes\":true,\"generateEtags\":true,\"pageExtensions\":[\"tsx\",\"ts\",\"jsx\",\"js\"],\"poweredByHeader\":true,\"compress\":true,\"analyticsId\":\"\",\"images\":{\"deviceSizes\":[640,750,828,1080,1200,1920,2048,3840],\"imageSizes\":[16,32,48,64,96,128,256,384],\"path\":\"/_next/image\",\"loader\":\"default\",\"loaderFile\":\"\",\"domains\":[],\"disableStaticImages\":false,\"minimumCacheTTL\":60,\"formats\":[\"image/webp\"],\"dangerouslyAllowSVG\":false,\"contentSecurityPolicy\":\"script-src \\'none\\'; frame-src \\'none\\'; sandbox;\",\"contentDispositionType\":\"inline\",\"remotePatterns\":[],\"unoptimized\":false},\"devIndicators\":{\"buildActivity\":true,\"buildActivityPosition\":\"bottom-right\"},\"onDemandEntries\":{\"maxInactiveAge\":60000,\"pagesBufferLength\":5},\"amp\":{\"canonicalBase\":\"\"},\"basePath\":\"\",\"sassOptions\":{},\"trailingSlash\":false,\"i18n\":null,\"productionBrowserSourceMaps\":false,\"optimizeFonts\":true,\"excludeDefaultMomentLocales\":true,\"serverRuntimeConfig\":{},\"publicRuntimeConfig\":{},\"reactProductionProfiling\":false,\"reactStrictMode\":null,\"httpAgentOptions\":{\"keepAlive\":true},\"outputFileTracing\":true,\"staticPageGenerationTimeout\":60,\"swcMinify\":true,\"output\":\"standalone\",\"modularizeImports\":{\"@mui/icons-material\":{\"transform\":\"@mui/icons-material/{{member}}\"},\"date-fns\":{\"transform\":\"date-fns/{{member}}\"},\"lodash\":{\"transform\":\"lodash/{{member}}\"},\"lodash-es\":{\"transform\":\"lodash-es/{{member}}\"},\"ramda\":{\"transform\":\"ramda/es/{{member}}\"},\"react-bootstrap\":{\"transform\":{\"useAccordionButton\":\"modularize-import-loader?name=useAccordionButton&from=named&as=default!react-bootstrap/AccordionButton\",\"*\":\"react-bootstrap/{{member}}\"}},\"antd\":{\"transform\":\"antd/lib/{{kebabCase member}}\"},\"ahooks\":{\"transform\":{\"createUpdateEffect\":\"modularize-import-loader?name=createUpdateEffect&from=named&as=default!ahooks/es/createUpdateEffect\",\"*\":\"ahooks/es/{{member}}\"}},\"@ant-design/icons\":{\"transform\":{\"IconProvider\":\"modularize-import-loader?name=IconProvider&from=named&as=default!@ant-design/icons\",\"createFromIconfontCN\":\"@ant-design/icons/es/components/IconFont\",\"getTwoToneColor\":\"modularize-import-loader?name=getTwoToneColor&from=named&as=default!@ant-design/icons/es/components/twoTonePrimaryColor\",\"setTwoToneColor\":\"modularize-import-loader?name=setTwoToneColor&from=named&as=default!@ant-design/icons/es/components/twoTonePrimaryColor\",\"*\":\"@ant-design/icons/lib/icons/{{member}}\"}},\"next/server\":{\"transform\":\"next/dist/server/web/exports/{{ kebabCase member }}\"}},\"experimental\":{\"serverMinification\":true,\"serverSourceMaps\":false,\"caseSensitiveRoutes\":false,\"useDeploymentId\":false,\"useDeploymentIdServerActions\":false,\"clientRouterFilter\":true,\"clientRouterFilterRedirects\":false,\"fetchCacheKeyPrefix\":\"\",\"middlewarePrefetch\":\"flexible\",\"optimisticClientCache\":true,\"manualClientBasePath\":false,\"cpus\":9,\"memoryBasedWorkersCount\":false,\"isrFlushToDisk\":true,\"workerThreads\":false,\"optimizeCss\":false,\"nextScriptWorkers\":false,\"scrollRestoration\":false,\"externalDir\":false,\"disableOptimizedLoading\":false,\"gzipSize\":true,\"craCompat\":false,\"esmExternals\":true,\"isrMemoryCacheSize\":52428800,\"fullySpecified\":false,\"outputFileTracingRoot\":\"/Users/maol/WebstormProjects/Trabajo/codegpt-nextjs\",\"swcTraceProfiling\":false,\"forceSwcTransforms\":false,\"largePageDataBytes\":128000,\"adjustFontFallbacks\":false,\"adjustFontFallbacksWithSizeAdjust\":false,\"typedRoutes\":false,\"instrumentationHook\":false,\"bundlePagesExternals\":false,\"optimizePackageImports\":[\"lucide-react\",\"@headlessui/react\",\"@headlessui-float/react\",\"@heroicons/react/20/solid\",\"@heroicons/react/24/solid\",\"@heroicons/react/24/outline\",\"@visx/visx\",\"@tremor/react\",\"rxjs\",\"@mui/material\",\"@mui/icons-material\",\"recharts\",\"react-use\",\"@material-ui/core\",\"@material-ui/icons\",\"@tabler/icons-react\",\"mui-core\",\"react-icons/ai\",\"react-icons/bi\",\"react-icons/bs\",\"react-icons/cg\",\"react-icons/ci\",\"react-icons/di\",\"react-icons/fa\",\"react-icons/fa6\",\"react-icons/fc\",\"react-icons/fi\",\"react-icons/gi\",\"react-icons/go\",\"react-icons/gr\",\"react-icons/hi\",\"react-icons/hi2\",\"react-icons/im\",\"react-icons/io\",\"react-icons/io5\",\"react-icons/lia\",\"react-icons/lib\",\"react-icons/lu\",\"react-icons/md\",\"react-icons/pi\",\"react-icons/ri\",\"react-icons/rx\",\"react-icons/si\",\"react-icons/sl\",\"react-icons/tb\",\"react-icons/tfi\",\"react-icons/ti\",\"react-icons/vsc\",\"react-icons/wi\"],\"trustHostHeader\":false,\"isExperimentalCompile\":false},\"configFileName\":\"next.config.js\"}',\n",
       " 'PYDEVD_USE_FRAME_EVAL': 'NO',\n",
       " 'TERM': 'xterm-color',\n",
       " 'CLICOLOR': '1',\n",
       " 'FORCE_COLOR': '1',\n",
       " 'CLICOLOR_FORCE': '1',\n",
       " 'PAGER': 'cat',\n",
       " 'GIT_PAGER': 'cat',\n",
       " 'MPLBACKEND': 'module://matplotlib_inline.backend_inline'}"
      ]
     },
     "execution_count": 28,
     "metadata": {},
     "output_type": "execute_result"
    }
   ],
   "source": [
    "%env"
   ]
  },
  {
   "cell_type": "markdown",
   "id": "0126a6a1",
   "metadata": {},
   "source": [
    "# Building A Language Model Application\n",
    "### LLMS: Get predictions from a language model"
   ]
  },
  {
   "cell_type": "code",
   "execution_count": 29,
   "id": "4bef95a9",
   "metadata": {},
   "outputs": [],
   "source": [
    "from langchain_google_genai import ChatGoogleGenerativeAI\n",
    "\n",
    "chat_google = ChatGoogleGenerativeAI(temperature=0.9, model='gemini-pro',)\n",
    "\n"
   ]
  },
  {
   "cell_type": "code",
   "execution_count": 30,
   "id": "770f760f",
   "metadata": {},
   "outputs": [],
   "source": [
    "from langchain_groq import ChatGroq\n",
    "chat_mixtral = ChatGroq(temperature=0.7,  model_name=\"mixtral-8x7b-32768\")"
   ]
  },
  {
   "cell_type": "code",
   "execution_count": 33,
   "id": "9ebe6d15",
   "metadata": {},
   "outputs": [
    {
     "data": {
      "text/plain": [
       "AIMessage(content=\"**Destinos italianos:**\\n\\n* **Nápoles:** Cuna de la pizza, conocida por su masa fina y elástica y su salsa sabrosa. Visita L'Antica Pizzeria da Michele para una experiencia auténtica.\\n* **Roma:** Hogar de una variedad de pizzerías, desde tradicionales hasta modernas. Prueba Pizza Romana Bio para una pizza romana crujiente y ligera.\\n* **Milán:** En el norte de Italia, Milán ofrece pizzas con una masa más gruesa y masticable. Visita Gino Sorbillo para una pizza napolitana de primera calidad.\\n\\n**Otros destinos europeos:**\\n\\n* **París, Francia:** La capital francesa alberga muchas pizzerías excelentes, como Da Vito para pizzas gourmet y Angelina Paris para pizzas clásicas.\\n* **Zúrich, Suiza:** Conocida por sus pizzas de alta calidad y sus ingredientes frescos, Prueba Albisgüetli para pizzas tradicionales o Mikki para pizzas creativas.\\n* **Barcelona, España:** Ofrece una variada escena de pizzas, desde tradicionales españolas hasta modernas italianas. Visita Grosso Napoletano para una pizza napolitana excepcional.\\n\\n**Destinos en Estados Unidos:**\\n\\n* **Nueva York:** La Gran Manzana es famosa por sus pizzerías, como Lombardi's Pizza y Patsy's Pizza, que sirven pizzas clásicas con estilo neoyorquino.\\n* **Chicago, Illinois:** Conocida por sus pizzas de masa gruesa y profunda, Visita Lou Malnati's Pizzeria para una experiencia icónica de pizza de plato hondo.\\n* **San Francisco, California:** Una ciudad con una vibrante escena gastronómica, San Francisco ofrece una amplia gama de pizzerías, desde Pizzeria Delfina para pizzas napolitanas hasta Tony's Pizza Napoletana para pizzas de leña.\\n\\n**Destinos en otros continentes:**\\n\\n* **Buenos Aires, Argentina:** Famosa por sus pizzas al molde, que tienen una masa gruesa y esponjosa y son horneadas en bandejas cuadradas. Prueba Güerrín para una experiencia auténtica.\\n* **Melbourne, Australia:** Con una población italiana significativa, Melbourne alberga numerosas pizzerías que ofrecen pizzas de calidad con influencias italianas y australianas. Visita 400 Gradi para pizzas napolitanas excepcionales.\\n* **Tokio, Japón:** La capital japonesa tiene una escena gastronómica diversa, incluidas pizzerías que infunden sabores japoneses tradicionales en sus pizzas. Prueba Pizza Studio Tamaki para pizzas con ingredientes japoneses únicos.\", response_metadata={'prompt_feedback': {'block_reason': 0, 'safety_ratings': []}, 'finish_reason': 'STOP', 'safety_ratings': [{'category': 'HARM_CATEGORY_SEXUALLY_EXPLICIT', 'probability': 'NEGLIGIBLE', 'blocked': False}, {'category': 'HARM_CATEGORY_HATE_SPEECH', 'probability': 'NEGLIGIBLE', 'blocked': False}, {'category': 'HARM_CATEGORY_HARASSMENT', 'probability': 'NEGLIGIBLE', 'blocked': False}, {'category': 'HARM_CATEGORY_DANGEROUS_CONTENT', 'probability': 'NEGLIGIBLE', 'blocked': False}]}, id='run-7fad96db-6297-460b-9adf-9e79fb298ed0-0', usage_metadata={'input_tokens': 14, 'output_tokens': 521, 'total_tokens': 535})"
      ]
     },
     "execution_count": 33,
     "metadata": {},
     "output_type": "execute_result"
    }
   ],
   "source": [
    "text = \"Qué destinos de vacaciones me recomiendas si me gusta comer pizza?\"\n",
    "chat_google.invoke(text)\n"
   ]
  },
  {
   "cell_type": "code",
   "execution_count": 34,
   "id": "ab8f3056",
   "metadata": {},
   "outputs": [
    {
     "name": "stdout",
     "output_type": "stream",
     "text": [
      "Hay muchos destinos de vacaciones increíbles para los amantes de la pizza. A continuación, te presento algunas recomendaciones:\n",
      "\n",
      "1. Nápoles, Italia: Nápoles es el hogar de la pizza napolitana, una de las pizzas más famosas y deliciosas del mundo. Aquí encontrarás pizzerías tradicionales que han estado horneando pizzas durante generaciones.\n",
      "2. Nueva York, EE. UU.: Nueva York es conocida por su pizza de estilo neoyorquino, una pizza delgada y flexible que se dobla fácilmente para comerla en la mano. Hay innumerables pizzerías en la ciudad, desde las clásicas hasta las modernas.\n",
      "3. Chicago, EE. UU.: Chicago es el hogar de la pizza deep-dish, una pizza con una corteza gruesa y esponjosa y una capa generosa de queso y salsa. Hay muchas pizzerías en Chicago que sirven esta deliciosa variedad de pizza.\n",
      "4. Roma, Italia: Roma es conocida por su pizza al taglio, una pizza cuadrada y gruesa que se corta en porciones y se vende por peso. También encontrarás muchas pizzerías que sirven pizza napolitana y romana.\n",
      "5. Buenos Aires, Argentina: Buenos Aires tiene una gran comunidad de inmigrantes italianos, y como resultado, hay muchas pizzerías en la ciudad que sirven pizza deliciosa. La pizza argentina es conocida por su masa fina y crujiente y sus ingredientes generosos.\n",
      "6. Phoenix, Arizona, EE. UU.: Phoenix tiene una escena de pizza en auge, con muchas pizzerías que sirven pizza de estilo neoyorquino, napolitano y artesanal. La ciudad también es conocida por su pizza de agua de leña, que se cocina en hornos de leña al aire libre.\n",
      "7. Toronto, Canadá: Toronto tiene una gran variedad de pizzerías que sirven pizza de estilo italiano, neoyorquino y canadiense. La ciudad también es conocida por su pizza de inspiración detroit-style, una pizza cuadrada con una corteza esponjosa y una capa generosa de queso.\n",
      "\n",
      "¡Espero que estas recomendaciones te inspiren a planificar tus próximas vacaciones y a disfrutar de la deliciosa pizza en el camino!\n"
     ]
    }
   ],
   "source": [
    "response = chat_mixtral.invoke(text)\n",
    "print(response.content)"
   ]
  },
  {
   "cell_type": "code",
   "execution_count": 35,
   "id": "ed94255b",
   "metadata": {},
   "outputs": [
    {
     "name": "stdout",
     "output_type": "stream",
     "text": [
      "{'finish_reason': 'stop',\n",
      " 'logprobs': None,\n",
      " 'model_name': 'mixtral-8x7b-32768',\n",
      " 'system_fingerprint': 'fp_c5f20b5bb1',\n",
      " 'token_usage': {'completion_time': 0.971869885,\n",
      "                 'completion_tokens': 599,\n",
      "                 'prompt_time': 0.003072428,\n",
      "                 'prompt_tokens': 28,\n",
      "                 'queue_time': 0.010319792999999999,\n",
      "                 'total_time': 0.974942313,\n",
      "                 'total_tokens': 627}}\n"
     ]
    }
   ],
   "source": [
    "import pprint\n",
    "\n",
    "pprint.pprint(response.response_metadata)"
   ]
  },
  {
   "cell_type": "markdown",
   "id": "7657e1e9",
   "metadata": {},
   "source": [
    "### Prompt Templates: Manage prompts for LLMs"
   ]
  },
  {
   "cell_type": "code",
   "execution_count": 36,
   "id": "168f2277",
   "metadata": {},
   "outputs": [],
   "source": [
    "from langchain.prompts import PromptTemplate"
   ]
  },
  {
   "cell_type": "code",
   "execution_count": 37,
   "id": "9d6d3761",
   "metadata": {},
   "outputs": [],
   "source": [
    "prompt = PromptTemplate(\n",
    "    input_variables=[\"food\"],\n",
    "    template=\"Eres un agente de viajes y recomiendas las mejoras opciones de vacaciones. Puedes recomendar destinos para amantes de comer {food}? \",\n",
    ")"
   ]
  },
  {
   "cell_type": "code",
   "execution_count": 38,
   "id": "160f8a0f",
   "metadata": {},
   "outputs": [
    {
     "data": {
      "text/plain": [
       "StringPromptValue(text='Eres un agente de viajes y recomiendas las mejoras opciones de vacaciones. Puedes recomendar destinos para amantes de comer pizza? ')"
      ]
     },
     "execution_count": 38,
     "metadata": {},
     "output_type": "execute_result"
    }
   ],
   "source": [
    "prompt.invoke({\"food\":\"pizza\"})"
   ]
  },
  {
   "cell_type": "code",
   "execution_count": 39,
   "id": "4309f2a0",
   "metadata": {},
   "outputs": [
    {
     "data": {
      "text/plain": [
       "'**Paraísos para los amantes de las frutas**\\n\\n**1. Tailandia**\\n\\n* Abundancia de frutas tropicales como mangostán, durian, rambután y mangos.\\n* Visite los mercados flotantes de Bangkok o Chiang Mai para experimentar una explosión de sabores.\\n\\n**2. Vietnam**\\n\\n* Hogar de la popular fruta del dragón, así como de lichias, mangostán y papayas.\\n* Visite la ciudad de Ho Chi Minh o Hanoi para degustar zumos de frutas recién exprimidos y ensaladas de frutas.\\n\\n**3. Hawái (EE. UU.)**\\n\\n* Famoso por sus piñas, papayas, mangos y aguacates.\\n* Visite las plantaciones de frutas en Maui o Kauai para conocer el proceso de cultivo y realizar catas.\\n\\n**4. Costa Rica**\\n\\n* Ofrece una amplia variedad de frutas como piñas, mangos, papayas, aguacates y maracuyá.\\n* Realice recorridos por las plantaciones de frutas o visite el Mercado Central en San José para probar frutas locales.\\n\\n**5. Brasil**\\n\\n* Un paraíso para los amantes de la fruta con frutas exóticas como acai, guaraná y cupuaçu.\\n* Visite los mercados callejeros de Río de Janeiro o Salvador para disfrutar de zumos de frutas y delicias de frutas.\\n\\n**6. Filipinas**\\n\\n* Conocido por sus mangos, plátanos, piñas y rambután.\\n* Visite Davao City o Cebú para experimentar la diversidad de frutas locales en sus mercados.\\n\\n**7. India**\\n\\n* Una tierra de frutas coloridas como mangos, papayas, plátanos y guayabas.\\n* Visite los bazares de frutas tradicionales en Mumbai o Delhi para una experiencia local.\\n\\n**8. Indonesia**\\n\\n* Hogar de frutas tropicales como mangostán, durian, mangos y piñas.\\n* Visite los mercados de frutas en Bali o Yakarta para probar estos sabores únicos.\\n\\n**9. México**\\n\\n* Abundante en frutas como mangos, piñas, papayas y fresas.\\n* Visite los mercados de Tulum o Playa del Carmen para degustar frutas frescas y platos a base de frutas.\\n\\n**10. Ecuador**\\n\\n* Conocido por sus plátanos, mangos, papayas y maracuyá.\\n* Visite las plantaciones de frutas en la región amazónica o Guayaquil para aprender sobre el cultivo de frutas.'"
      ]
     },
     "execution_count": 39,
     "metadata": {},
     "output_type": "execute_result"
    }
   ],
   "source": [
    "#LCEL\n",
    "chain = prompt|chat_google\n",
    "response = chain.invoke({\"food\":\"frutas\"})\n",
    "response.content"
   ]
  },
  {
   "cell_type": "code",
   "execution_count": 52,
   "id": "40284e22",
   "metadata": {},
   "outputs": [
    {
     "name": "stdout",
     "output_type": "stream",
     "text": [
      "1. **Quito, Ecuador** (Plaza Grande, La Ronda)\n",
      "2. **Guayaquil, Ecuador** (Parque Seminario, Urdesa)\n",
      "3. **Cali, Colombia** (Parque de las Banderas, San Antonio)\n",
      "4. **Buenaventura, Colombia** (Bahía de la Cruz, Puerto España)\n",
      "5. **Panamá, Panamá** (Casco Viejo, Cinta Costera)\n",
      "6. **San José, Costa Rica** (Parque Central, Barrio Amón)\n",
      "7. **Limón, Costa Rica** (Mercado Central, Parque Vargas)\n",
      "8. **La Habana, Cuba** (Paseo del Prado, Malecón)\n",
      "9. **Santiago de los Caballeros, República Dominicana** (Parque Central, Monumento a los Héroes de la Restauración)\n",
      "10. **Santo Domingo, República Dominicana** (Zona Colonial, Malecón)\n",
      "11. **Port-au-Prince, Haití** (Plaza Champ de Mars, Marché de la Croix-des-Bossales)\n",
      "12. **Cayena, Guayana Francesa** (Plaza de los Palmistes, Marché Central)\n"
     ]
    }
   ],
   "source": [
    "from langchain_core.output_parsers.string import StrOutputParser\n",
    "output_parser = StrOutputParser()\n",
    "promt30 = PromptTemplate.from_template(\"Dame {n} sitios para visitar en el mundo en los que pueda disfrutar {comida}\")\n",
    "chain2 =  promt30|chat_google |output_parser\n",
    "\n",
    "print(chain2.invoke({\"comida\":\"mote de guineo\",\"n\":12}))\n"
   ]
  },
  {
   "cell_type": "code",
   "execution_count": 50,
   "id": "b50dc596",
   "metadata": {},
   "outputs": [
    {
     "name": "stdout",
     "output_type": "stream",
     "text": [
      "1. Japón - Ramen Street en Tokio\n",
      "2. China - Guilin Rice Noodles en Guangxi\n",
      "3. Tailandia - Pad Thai en Bangkok\n",
      "4. Malasia - Curry Laksa en Penang\n",
      "5. Singapur - Bak Chor Mee en Singapur\n",
      "6. Corea del Sur - Jjajangmyeon en Seúl\n",
      "7. Vietnam - Pho en Hanoi\n",
      "8. Indonesia - Mie Goreng en Yakarta\n",
      "9. Filipinas - Pancit en Manila\n",
      "10. Myanmar - Mohinga en Yangon\n",
      "11. Laos - Khao Piak Sen en Luang Prabang\n",
      "12. Camboya - Nom Banh Chok en Siem Reap\n",
      "13. Taiwan - Beef Noodle Soup en Taipei\n",
      "14. Hong Kong - Wonton Noodles en Hong Kong\n",
      "15. Macao - Macanese Pork Chop Bun con fideos\n",
      "16. Estados Unidos - Pho en San Francisco\n",
      "17. Canadá - Ramen en Vancouver\n",
      "18. Australia - Noodles de mariscos en Sídney\n",
      "19. Nueva Zelanda - Wonton Noodles en Auckland\n",
      "20. Reino Unido - Ramen en Londres\n",
      "21. Francia - Pho en París\n",
      "22. Italia - Ramen en Roma\n",
      "23. España - Fideuá en Valencia\n",
      "24. Alemania - Ramen en Berlín\n",
      "25. Países Bajos - Bakso en Ámsterdam\n",
      "26. Bélgica - Ramen en Bruselas\n",
      "27. Suecia - Ramen en Estocolmo\n",
      "28. Noruega - Ramen en Oslo\n",
      "29. Dinamarca - Ramen en Copenhague\n",
      "30. Irlanda - Ramen en Dublín."
     ]
    }
   ],
   "source": [
    "chunks = []\n",
    "async for chunk in chain2.astream({\"comida\":\"noodles\",\"n\":\"30\"}):\n",
    "    print(chunk, end=\"\", flush=True)\n",
    "    "
   ]
  },
  {
   "cell_type": "code",
   "execution_count": 55,
   "id": "6a1149e0",
   "metadata": {},
   "outputs": [
    {
     "name": "stdout",
     "output_type": "stream",
     "text": [
      "{'destinations': [{'name': 'Paris, France',\n",
      "                   'reason': 'Paris is known as the city of love, but it might '\n",
      "                             'as well be called the city of pastries. From '\n",
      "                             'classic croissants to delicious macarons, '\n",
      "                             \"there's no shortage of dessert options in this \"\n",
      "                             'European city.'},\n",
      "                  {'name': 'New York City, NY',\n",
      "                   'reason': 'NYC is a melting pot of cultures, which means a '\n",
      "                             'wide variety of desserts to try. From classic '\n",
      "                             'New York cheesecake to cannoli in Little Italy, '\n",
      "                             \"there's something for every sweet tooth.\"},\n",
      "                  {'name': 'Tokyo, Japan',\n",
      "                   'reason': 'Tokyo is known for its unique and artistic '\n",
      "                             'approach to desserts. Try traditional mochi, or '\n",
      "                             'opt for a more modern approach with a cotton '\n",
      "                             'candy machine that makes giant clouds of the '\n",
      "                             'sweet stuff.'},\n",
      "                  {'name': 'Sydney, Australia',\n",
      "                   'reason': 'Sydney is home to some of the best gelato in the '\n",
      "                             'world. In addition to that, you can find '\n",
      "                             'delicious pavlova, a meringue-based dessert that '\n",
      "                             'is a national favorite.'},\n",
      "                  {'name': 'San Francisco, CA',\n",
      "                   'reason': \"San Francisco is a foodie's paradise, and that \"\n",
      "                             'includes dessert. From chocolate croissants at '\n",
      "                             'Tartine to salted caramel ice cream at Bi-Rite '\n",
      "                             'Creamery, there are plenty of options to satisfy '\n",
      "                             'your sweet tooth.'}]}\n"
     ]
    }
   ],
   "source": [
    "from langchain_core.output_parsers.json import SimpleJsonOutputParser\n",
    "json_parser = SimpleJsonOutputParser()\n",
    "prompt_json = PromptTemplate(\n",
    "    input_variables=[\"food\"],\n",
    "    template=\"What are {n} vacation destinations for someone who likes to eat {food}? return a json object\",\n",
    ")\n",
    "\n",
    "chain3 = prompt_json| chat_mixtral | json_parser\n",
    "pprint.pprint(chain3.invoke({\"food\":\"desserts\", \"n\":\"5\"}))"
   ]
  },
  {
   "cell_type": "code",
   "execution_count": 56,
   "id": "7d3f025c",
   "metadata": {},
   "outputs": [
    {
     "data": {
      "text/plain": [
       "'Return a JSON object.'"
      ]
     },
     "execution_count": 56,
     "metadata": {},
     "output_type": "execute_result"
    }
   ],
   "source": [
    "json_parser.get_format_instructions()"
   ]
  },
  {
   "cell_type": "code",
   "execution_count": 57,
   "id": "a34ff024",
   "metadata": {},
   "outputs": [],
   "source": [
    "\n",
    "from langchain.chains import LLMChain #legacy chain\n",
    "#LEGACY\n",
    "chain = LLMChain(llm=chat_google, prompt=prompt, )"
   ]
  },
  {
   "cell_type": "code",
   "execution_count": 58,
   "id": "0b08b76a",
   "metadata": {},
   "outputs": [
    {
     "name": "stdout",
     "output_type": "stream",
     "text": [
      "{'food': 'fruit', 'text': '**Destinos recomendados para amantes de la fruta:**\\n\\n**1. Tailandia**\\n\\n* **Mercado flotante de Damnoen Saduak:** Famoso por sus vibrantes botes llenos de frutas exóticas como mango, piña y papaya.\\n* **Isla de Koh Samui:** Visita el jardín tropical de Samui para probar una impresionante variedad de frutas tropicales.\\n\\n**2. Costa Rica**\\n\\n* **Monteverde Cloud Forest:** Realiza una caminata por la jungla y disfruta de frutas como maracuyá, papaya y banano.\\n* **Mercado Central de San José:** Un mercado bullicioso que ofrece una amplia gama de frutas locales y tropicales.\\n\\n**3. Vietnam**\\n\\n* **Delta del Mekong:** Da un paseo en bote por este exuberante delta y deténte en las granjas de frutas para probar fruta del dragón, rambután y estrella.\\n* **Ciudad de Ho Chi Minh:** Visita el mercado de Ben Thanh para comprar una variedad de frutas exóticas.\\n\\n**4. Perú**\\n\\n* **Amazonía peruana:** Participa en una excursión por la selva amazónica y prueba frutas como acai, camu camu y piña.\\n* **Mercado de San Pedro en Cusco:** Un mercado tradicional que vende una gran variedad de frutas andinas.\\n\\n**5. Filipinas**\\n\\n* **Manila:** Visita el mercado de Divisoria para comprar mangos, sandías y plátanos de temporada.\\n* **Isla de Cebú:** Disfruta de fruta fresca en las plantaciones de mango y piña.\\n\\n**Consejos adicionales:**\\n\\n* Viaja durante la temporada alta de frutas para la mejor selección.\\n* Busca mercados locales y puestos de frutas para obtener la fruta más fresca.\\n* Prueba frutas exóticas que no puedes encontrar en casa.\\n* Considera tomar un tour de frutas guiado para obtener información sobre diferentes variedades.'}\n"
     ]
    }
   ],
   "source": [
    "print(chain.invoke(\"fruit\"))"
   ]
  },
  {
   "cell_type": "code",
   "execution_count": null,
   "id": "ab462061",
   "metadata": {},
   "outputs": [],
   "source": [
    "from langchain.chains.combine_documents import create_stuff_documents_chain"
   ]
  }
 ],
 "metadata": {
  "kernelspec": {
   "display_name": "Python 3 (ipykernel)",
   "language": "python",
   "name": "python3"
  },
  "language_info": {
   "codemirror_mode": {
    "name": "ipython",
    "version": 3
   },
   "file_extension": ".py",
   "mimetype": "text/x-python",
   "name": "python",
   "nbconvert_exporter": "python",
   "pygments_lexer": "ipython3",
   "version": "3.12.0"
  }
 },
 "nbformat": 4,
 "nbformat_minor": 5
}
